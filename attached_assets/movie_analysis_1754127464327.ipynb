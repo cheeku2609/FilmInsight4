{
  "cells": [
    {
      "cell_type": "markdown",
      "id": "54cfd661",
      "metadata": {
        "id": "54cfd661"
      },
      "source": [
        "# 🎬 Movie Rating Analysis\n",
        "### A Data-Driven Exploration of the TMDB Movie Dataset\n",
        "\n"
      ]
    },
    {
      "cell_type": "markdown",
      "id": "eaf7a0fe",
      "metadata": {
        "id": "eaf7a0fe"
      },
      "source": [
        "##### 📦 Importing Required Libraries"
      ]
    },
    {
      "cell_type": "code",
      "execution_count": null,
      "id": "73a366ea",
      "metadata": {
        "id": "73a366ea"
      },
      "outputs": [],
      "source": [
        "import numpy as numpy\n",
        "import pandas as pd\n",
        "import matplotlib.pyplot as plt\n",
        "import seaborn as sns"
      ]
    },
    {
      "cell_type": "markdown",
      "id": "e37519af",
      "metadata": {
        "id": "e37519af"
      },
      "source": [
        "##### 🎨 Setting Plot Style and Palette"
      ]
    },
    {
      "cell_type": "code",
      "execution_count": null,
      "id": "6a5e43e5",
      "metadata": {
        "id": "6a5e43e5"
      },
      "outputs": [],
      "source": [
        "sns.set_palette(\"Set2\")\n",
        "sns.set_style(\"whitegrid\")\n",
        "plt.style.use('ggplot')"
      ]
    },
    {
      "cell_type": "markdown",
      "id": "6d0168ae",
      "metadata": {
        "id": "6d0168ae"
      },
      "source": [
        "##### 📂 Loading the TMDB Datasets\n"
      ]
    },
    {
      "cell_type": "code",
      "execution_count": null,
      "id": "c38db5fd",
      "metadata": {
        "id": "c38db5fd",
        "outputId": "054450e4-75dd-403d-f1bb-8d3353b65845",
        "colab": {
          "base_uri": "https://localhost:8080/",
          "height": 321
        }
      },
      "outputs": [
        {
          "output_type": "error",
          "ename": "FileNotFoundError",
          "evalue": "[Errno 2] No such file or directory: '/content/tmdb_5000_credits.csv'",
          "traceback": [
            "\u001b[0;31m---------------------------------------------------------------------------\u001b[0m",
            "\u001b[0;31mFileNotFoundError\u001b[0m                         Traceback (most recent call last)",
            "\u001b[0;32m/tmp/ipython-input-3-3678205509.py\u001b[0m in \u001b[0;36m<cell line: 0>\u001b[0;34m()\u001b[0m\n\u001b[0;32m----> 1\u001b[0;31m \u001b[0mmovies\u001b[0m\u001b[0;34m=\u001b[0m\u001b[0mpd\u001b[0m\u001b[0;34m.\u001b[0m\u001b[0mread_csv\u001b[0m\u001b[0;34m(\u001b[0m\u001b[0;34m'/content/tmdb_5000_credits.csv'\u001b[0m\u001b[0;34m)\u001b[0m\u001b[0;34m\u001b[0m\u001b[0;34m\u001b[0m\u001b[0m\n\u001b[0m\u001b[1;32m      2\u001b[0m \u001b[0mcredits\u001b[0m\u001b[0;34m=\u001b[0m\u001b[0mpd\u001b[0m\u001b[0;34m.\u001b[0m\u001b[0mread_csv\u001b[0m\u001b[0;34m(\u001b[0m\u001b[0;34m'/content/tmdb_5000_movies.csv'\u001b[0m\u001b[0;34m)\u001b[0m\u001b[0;34m\u001b[0m\u001b[0;34m\u001b[0m\u001b[0m\n",
            "\u001b[0;32m/usr/local/lib/python3.11/dist-packages/pandas/io/parsers/readers.py\u001b[0m in \u001b[0;36mread_csv\u001b[0;34m(filepath_or_buffer, sep, delimiter, header, names, index_col, usecols, dtype, engine, converters, true_values, false_values, skipinitialspace, skiprows, skipfooter, nrows, na_values, keep_default_na, na_filter, verbose, skip_blank_lines, parse_dates, infer_datetime_format, keep_date_col, date_parser, date_format, dayfirst, cache_dates, iterator, chunksize, compression, thousands, decimal, lineterminator, quotechar, quoting, doublequote, escapechar, comment, encoding, encoding_errors, dialect, on_bad_lines, delim_whitespace, low_memory, memory_map, float_precision, storage_options, dtype_backend)\u001b[0m\n\u001b[1;32m   1024\u001b[0m     \u001b[0mkwds\u001b[0m\u001b[0;34m.\u001b[0m\u001b[0mupdate\u001b[0m\u001b[0;34m(\u001b[0m\u001b[0mkwds_defaults\u001b[0m\u001b[0;34m)\u001b[0m\u001b[0;34m\u001b[0m\u001b[0;34m\u001b[0m\u001b[0m\n\u001b[1;32m   1025\u001b[0m \u001b[0;34m\u001b[0m\u001b[0m\n\u001b[0;32m-> 1026\u001b[0;31m     \u001b[0;32mreturn\u001b[0m \u001b[0m_read\u001b[0m\u001b[0;34m(\u001b[0m\u001b[0mfilepath_or_buffer\u001b[0m\u001b[0;34m,\u001b[0m \u001b[0mkwds\u001b[0m\u001b[0;34m)\u001b[0m\u001b[0;34m\u001b[0m\u001b[0;34m\u001b[0m\u001b[0m\n\u001b[0m\u001b[1;32m   1027\u001b[0m \u001b[0;34m\u001b[0m\u001b[0m\n\u001b[1;32m   1028\u001b[0m \u001b[0;34m\u001b[0m\u001b[0m\n",
            "\u001b[0;32m/usr/local/lib/python3.11/dist-packages/pandas/io/parsers/readers.py\u001b[0m in \u001b[0;36m_read\u001b[0;34m(filepath_or_buffer, kwds)\u001b[0m\n\u001b[1;32m    618\u001b[0m \u001b[0;34m\u001b[0m\u001b[0m\n\u001b[1;32m    619\u001b[0m     \u001b[0;31m# Create the parser.\u001b[0m\u001b[0;34m\u001b[0m\u001b[0;34m\u001b[0m\u001b[0m\n\u001b[0;32m--> 620\u001b[0;31m     \u001b[0mparser\u001b[0m \u001b[0;34m=\u001b[0m \u001b[0mTextFileReader\u001b[0m\u001b[0;34m(\u001b[0m\u001b[0mfilepath_or_buffer\u001b[0m\u001b[0;34m,\u001b[0m \u001b[0;34m**\u001b[0m\u001b[0mkwds\u001b[0m\u001b[0;34m)\u001b[0m\u001b[0;34m\u001b[0m\u001b[0;34m\u001b[0m\u001b[0m\n\u001b[0m\u001b[1;32m    621\u001b[0m \u001b[0;34m\u001b[0m\u001b[0m\n\u001b[1;32m    622\u001b[0m     \u001b[0;32mif\u001b[0m \u001b[0mchunksize\u001b[0m \u001b[0;32mor\u001b[0m \u001b[0miterator\u001b[0m\u001b[0;34m:\u001b[0m\u001b[0;34m\u001b[0m\u001b[0;34m\u001b[0m\u001b[0m\n",
            "\u001b[0;32m/usr/local/lib/python3.11/dist-packages/pandas/io/parsers/readers.py\u001b[0m in \u001b[0;36m__init__\u001b[0;34m(self, f, engine, **kwds)\u001b[0m\n\u001b[1;32m   1618\u001b[0m \u001b[0;34m\u001b[0m\u001b[0m\n\u001b[1;32m   1619\u001b[0m         \u001b[0mself\u001b[0m\u001b[0;34m.\u001b[0m\u001b[0mhandles\u001b[0m\u001b[0;34m:\u001b[0m \u001b[0mIOHandles\u001b[0m \u001b[0;34m|\u001b[0m \u001b[0;32mNone\u001b[0m \u001b[0;34m=\u001b[0m \u001b[0;32mNone\u001b[0m\u001b[0;34m\u001b[0m\u001b[0;34m\u001b[0m\u001b[0m\n\u001b[0;32m-> 1620\u001b[0;31m         \u001b[0mself\u001b[0m\u001b[0;34m.\u001b[0m\u001b[0m_engine\u001b[0m \u001b[0;34m=\u001b[0m \u001b[0mself\u001b[0m\u001b[0;34m.\u001b[0m\u001b[0m_make_engine\u001b[0m\u001b[0;34m(\u001b[0m\u001b[0mf\u001b[0m\u001b[0;34m,\u001b[0m \u001b[0mself\u001b[0m\u001b[0;34m.\u001b[0m\u001b[0mengine\u001b[0m\u001b[0;34m)\u001b[0m\u001b[0;34m\u001b[0m\u001b[0;34m\u001b[0m\u001b[0m\n\u001b[0m\u001b[1;32m   1621\u001b[0m \u001b[0;34m\u001b[0m\u001b[0m\n\u001b[1;32m   1622\u001b[0m     \u001b[0;32mdef\u001b[0m \u001b[0mclose\u001b[0m\u001b[0;34m(\u001b[0m\u001b[0mself\u001b[0m\u001b[0;34m)\u001b[0m \u001b[0;34m->\u001b[0m \u001b[0;32mNone\u001b[0m\u001b[0;34m:\u001b[0m\u001b[0;34m\u001b[0m\u001b[0;34m\u001b[0m\u001b[0m\n",
            "\u001b[0;32m/usr/local/lib/python3.11/dist-packages/pandas/io/parsers/readers.py\u001b[0m in \u001b[0;36m_make_engine\u001b[0;34m(self, f, engine)\u001b[0m\n\u001b[1;32m   1878\u001b[0m                 \u001b[0;32mif\u001b[0m \u001b[0;34m\"b\"\u001b[0m \u001b[0;32mnot\u001b[0m \u001b[0;32min\u001b[0m \u001b[0mmode\u001b[0m\u001b[0;34m:\u001b[0m\u001b[0;34m\u001b[0m\u001b[0;34m\u001b[0m\u001b[0m\n\u001b[1;32m   1879\u001b[0m                     \u001b[0mmode\u001b[0m \u001b[0;34m+=\u001b[0m \u001b[0;34m\"b\"\u001b[0m\u001b[0;34m\u001b[0m\u001b[0;34m\u001b[0m\u001b[0m\n\u001b[0;32m-> 1880\u001b[0;31m             self.handles = get_handle(\n\u001b[0m\u001b[1;32m   1881\u001b[0m                 \u001b[0mf\u001b[0m\u001b[0;34m,\u001b[0m\u001b[0;34m\u001b[0m\u001b[0;34m\u001b[0m\u001b[0m\n\u001b[1;32m   1882\u001b[0m                 \u001b[0mmode\u001b[0m\u001b[0;34m,\u001b[0m\u001b[0;34m\u001b[0m\u001b[0;34m\u001b[0m\u001b[0m\n",
            "\u001b[0;32m/usr/local/lib/python3.11/dist-packages/pandas/io/common.py\u001b[0m in \u001b[0;36mget_handle\u001b[0;34m(path_or_buf, mode, encoding, compression, memory_map, is_text, errors, storage_options)\u001b[0m\n\u001b[1;32m    871\u001b[0m         \u001b[0;32mif\u001b[0m \u001b[0mioargs\u001b[0m\u001b[0;34m.\u001b[0m\u001b[0mencoding\u001b[0m \u001b[0;32mand\u001b[0m \u001b[0;34m\"b\"\u001b[0m \u001b[0;32mnot\u001b[0m \u001b[0;32min\u001b[0m \u001b[0mioargs\u001b[0m\u001b[0;34m.\u001b[0m\u001b[0mmode\u001b[0m\u001b[0;34m:\u001b[0m\u001b[0;34m\u001b[0m\u001b[0;34m\u001b[0m\u001b[0m\n\u001b[1;32m    872\u001b[0m             \u001b[0;31m# Encoding\u001b[0m\u001b[0;34m\u001b[0m\u001b[0;34m\u001b[0m\u001b[0m\n\u001b[0;32m--> 873\u001b[0;31m             handle = open(\n\u001b[0m\u001b[1;32m    874\u001b[0m                 \u001b[0mhandle\u001b[0m\u001b[0;34m,\u001b[0m\u001b[0;34m\u001b[0m\u001b[0;34m\u001b[0m\u001b[0m\n\u001b[1;32m    875\u001b[0m                 \u001b[0mioargs\u001b[0m\u001b[0;34m.\u001b[0m\u001b[0mmode\u001b[0m\u001b[0;34m,\u001b[0m\u001b[0;34m\u001b[0m\u001b[0;34m\u001b[0m\u001b[0m\n",
            "\u001b[0;31mFileNotFoundError\u001b[0m: [Errno 2] No such file or directory: '/content/tmdb_5000_credits.csv'"
          ]
        }
      ],
      "source": [
        "movies=pd.read_csv('/content/tmdb_5000_credits.csv')\n",
        "credits=pd.read_csv('/content/tmdb_5000_movies.csv')"
      ]
    },
    {
      "cell_type": "code",
      "source": [
        "from google.colab import drive\n",
        "drive.mount('/content/drive')"
      ],
      "metadata": {
        "id": "SMjT3ejXy5Gv"
      },
      "id": "SMjT3ejXy5Gv",
      "execution_count": null,
      "outputs": []
    },
    {
      "cell_type": "markdown",
      "id": "7d9424be",
      "metadata": {
        "id": "7d9424be"
      },
      "source": [
        "##### 🔍 Previewing Movies Dataset"
      ]
    },
    {
      "cell_type": "code",
      "execution_count": null,
      "id": "efbb1eee",
      "metadata": {
        "id": "efbb1eee"
      },
      "outputs": [],
      "source": [
        "movies.head(3)"
      ]
    },
    {
      "cell_type": "markdown",
      "id": "3ccd8013",
      "metadata": {
        "id": "3ccd8013"
      },
      "source": [
        "##### 👥 Previewing Credits Dataset"
      ]
    },
    {
      "cell_type": "code",
      "execution_count": null,
      "id": "cf2d1fc2",
      "metadata": {
        "id": "cf2d1fc2"
      },
      "outputs": [],
      "source": [
        "credits.head(4)\n"
      ]
    },
    {
      "cell_type": "markdown",
      "id": "86998c98",
      "metadata": {
        "id": "86998c98"
      },
      "source": [
        "##### 🔗 Merging Movies and Credits Data"
      ]
    },
    {
      "cell_type": "code",
      "execution_count": null,
      "id": "d90e2103",
      "metadata": {
        "id": "d90e2103"
      },
      "outputs": [],
      "source": [
        "movies = movies.merge(credits,on='title')"
      ]
    },
    {
      "cell_type": "markdown",
      "id": "69d3eab3",
      "metadata": {
        "id": "69d3eab3"
      },
      "source": [
        "##### 🔍 Previewing Movies Dataset"
      ]
    },
    {
      "cell_type": "code",
      "execution_count": null,
      "id": "f238bab2",
      "metadata": {
        "id": "f238bab2"
      },
      "outputs": [],
      "source": [
        "movies.head(1)"
      ]
    },
    {
      "cell_type": "markdown",
      "id": "fab98caa",
      "metadata": {
        "id": "fab98caa"
      },
      "source": [
        "##### 🧾 Dataset Information Overview"
      ]
    },
    {
      "cell_type": "code",
      "execution_count": null,
      "id": "87ffc249",
      "metadata": {
        "id": "87ffc249"
      },
      "outputs": [],
      "source": [
        "movies.info()"
      ]
    },
    {
      "cell_type": "markdown",
      "id": "d22f420d",
      "metadata": {
        "id": "d22f420d"
      },
      "source": [
        "##### ✏️ Renaming Columns for Clarity"
      ]
    },
    {
      "cell_type": "code",
      "execution_count": null,
      "id": "e75b72c4",
      "metadata": {
        "id": "e75b72c4"
      },
      "outputs": [],
      "source": [
        "movies = movies.rename(columns={'id_x': 'movie_id'})"
      ]
    },
    {
      "cell_type": "markdown",
      "id": "66bcbb2d",
      "metadata": {
        "id": "66bcbb2d"
      },
      "source": [
        "##### 📊 Selecting Relevant Columns"
      ]
    },
    {
      "cell_type": "code",
      "execution_count": null,
      "id": "2c1b2765",
      "metadata": {
        "id": "2c1b2765"
      },
      "outputs": [],
      "source": [
        "\n",
        "analysis_df = movies[['movie_id', 'title', 'release_date', 'runtime', 'vote_average', 'vote_count','revenue', 'budget', 'popularity', 'genres', 'cast', 'crew']]"
      ]
    },
    {
      "cell_type": "markdown",
      "id": "28574806",
      "metadata": {
        "id": "28574806"
      },
      "source": [
        "##### 📅 Converting and Extracting Release Year"
      ]
    },
    {
      "cell_type": "code",
      "execution_count": null,
      "id": "6e12543c",
      "metadata": {
        "id": "6e12543c"
      },
      "outputs": [],
      "source": [
        "analysis_df['release_date'] = pd.to_datetime(analysis_df['release_date'], errors='coerce')\n",
        "analysis_df['release_year'] = analysis_df['release_date'].dt.year"
      ]
    },
    {
      "cell_type": "markdown",
      "id": "a03b5e01",
      "metadata": {
        "id": "a03b5e01"
      },
      "source": [
        "##### 🔎 Previewing Analysis DataFrame"
      ]
    },
    {
      "cell_type": "code",
      "execution_count": null,
      "id": "82feedc3",
      "metadata": {
        "id": "82feedc3"
      },
      "outputs": [],
      "source": [
        "analysis_df.head()"
      ]
    },
    {
      "cell_type": "markdown",
      "id": "255a52ff",
      "metadata": {
        "id": "255a52ff"
      },
      "source": [
        "##### ❓ Exploratory Data Analysis Questions"
      ]
    },
    {
      "cell_type": "markdown",
      "id": "0d564a5d",
      "metadata": {
        "id": "0d564a5d"
      },
      "source": [
        "\n",
        "\n",
        "```\n",
        "# This is formatted as code\n",
        "```\n",
        "\n",
        "**1. Display Titles of Movies Having Runtime ≥ 180 Minutes**"
      ]
    },
    {
      "cell_type": "code",
      "execution_count": null,
      "id": "23ed3d5d",
      "metadata": {
        "id": "23ed3d5d"
      },
      "outputs": [],
      "source": [
        "long_movies = analysis_df[analysis_df['runtime'] >= 180][['title', 'runtime']].sort_values(by='runtime', ascending=False)\n",
        "print(\"Top Movies with Runtime >= 180 minutes\")\n",
        "display(long_movies.head(10))"
      ]
    },
    {
      "cell_type": "markdown",
      "id": "39ce6e04",
      "metadata": {
        "id": "39ce6e04"
      },
      "source": [
        "**2. In Which Year Was the Highest Average Rating?**"
      ]
    },
    {
      "cell_type": "code",
      "execution_count": null,
      "id": "3bff615a",
      "metadata": {
        "id": "3bff615a"
      },
      "outputs": [],
      "source": [
        "avg_rating_year = analysis_df.groupby('release_year')['vote_average'].mean().sort_index(ascending=True)\n",
        "avg_rating_year.plot(kind='bar', figsize=(15,5), title='Average Movie Rating by Year', color='skyblue')\n",
        "plt.ylabel('Average Rating')\n",
        "plt.xlabel('Year')\n",
        "plt.grid(True)\n",
        "plt.show()\n",
        "\n",
        "print(\"Year with Highest Average Rating:\", avg_rating_year.idxmax())\n"
      ]
    },
    {
      "cell_type": "markdown",
      "id": "d1dec559",
      "metadata": {
        "id": "d1dec559"
      },
      "source": [
        "**3. Display Top 10 Longest Movies**"
      ]
    },
    {
      "cell_type": "code",
      "execution_count": null,
      "id": "bc1999f5",
      "metadata": {
        "id": "bc1999f5"
      },
      "outputs": [],
      "source": [
        "longest_movies = analysis_df[['title', 'runtime']].sort_values(by='runtime', ascending=False).head(10)\n",
        "longest_movies.plot(kind='barh', x='title', y='runtime', color='orange', figsize=(10,6), title='Top 10 Longest Movies')\n",
        "plt.xlabel('Runtime (minutes)')\n",
        "plt.gca().invert_yaxis()\n",
        "plt.show()\n",
        "\n",
        "display(longest_movies)\n"
      ]
    },
    {
      "cell_type": "markdown",
      "id": "7c25baf8",
      "metadata": {
        "id": "7c25baf8"
      },
      "source": [
        "**4. In Which Year Was the Highest Average Revenue?**"
      ]
    },
    {
      "cell_type": "code",
      "execution_count": null,
      "id": "690bacb6",
      "metadata": {
        "id": "690bacb6"
      },
      "outputs": [],
      "source": [
        "avg_revenue_year = analysis_df.groupby('release_year')['revenue'].mean().sort_index(ascending=True)\n",
        "avg_revenue_year.plot(kind='bar', figsize=(15,5), title='Average Revenue by Year', color='lightgreen')\n",
        "plt.ylabel('Average Revenue')\n",
        "plt.xlabel('Year')\n",
        "plt.grid(True)\n",
        "plt.show()\n",
        "\n",
        "print(\"Year with Highest Average Revenue:\", avg_revenue_year.idxmax())\n",
        "\n",
        "\n"
      ]
    },
    {
      "cell_type": "markdown",
      "id": "b63e73b3",
      "metadata": {
        "id": "b63e73b3"
      },
      "source": [
        "**5. Display Number of Movies Released Per Year**"
      ]
    },
    {
      "cell_type": "code",
      "execution_count": null,
      "id": "fa034b7f",
      "metadata": {
        "id": "fa034b7f"
      },
      "outputs": [],
      "source": [
        "movies_per_year = analysis_df['release_year'].value_counts().sort_index()\n",
        "\n",
        "plt.figure(figsize=(14,5))\n",
        "sns.lineplot(x=movies_per_year.index, y=movies_per_year.values, marker='o')\n",
        "plt.title('Number of Movies Released Per Year')\n",
        "plt.xlabel('Year')\n",
        "plt.ylabel('Number of Movies')\n",
        "plt.grid(True)\n",
        "plt.show()\n"
      ]
    },
    {
      "cell_type": "markdown",
      "id": "785074ee",
      "metadata": {
        "id": "785074ee"
      },
      "source": [
        "**6. Find Most Popular Movie Title (Highest Revenue)**\n"
      ]
    },
    {
      "cell_type": "code",
      "execution_count": null,
      "id": "d8657883",
      "metadata": {
        "id": "d8657883"
      },
      "outputs": [],
      "source": [
        "top_revenue_movie = analysis_df[['title', 'revenue']].sort_values(by='revenue', ascending=False).head(1)\n",
        "print(\"Most Popular Movie by Revenue:\")\n",
        "display(top_revenue_movie)\n"
      ]
    },
    {
      "cell_type": "markdown",
      "id": "55731be9",
      "metadata": {
        "id": "55731be9"
      },
      "source": [
        "**7. Display Top 10 Highest Rated Movie Titles and Their Directors**"
      ]
    },
    {
      "cell_type": "code",
      "execution_count": null,
      "id": "a7853ab8",
      "metadata": {
        "id": "a7853ab8"
      },
      "outputs": [],
      "source": [
        "# Flatten director list\n",
        "import ast\n",
        "\n",
        "# Function to extract director name from crew\n",
        "def get_director(crew_str):\n",
        "    try:\n",
        "        crew_list = ast.literal_eval(crew_str)\n",
        "        for person in crew_list:\n",
        "            if person.get('job') == 'Director':\n",
        "                return person.get('name')\n",
        "    except:\n",
        "        return None\n",
        "\n",
        "# Apply the function to extract director name\n",
        "top_rated = analysis_df[['title', 'vote_average', 'crew']].copy()\n",
        "top_rated['director'] = top_rated['crew'].apply(get_director)\n",
        "\n",
        "# Sort and show top 10 highest rated movies\n",
        "top_10_rated = top_rated.sort_values(by='vote_average', ascending=False).head(10)\n",
        "\n",
        "print(\"Top 10 Highest Rated Movies and Their Directors:\")\n",
        "display(top_10_rated[['title', 'vote_average', 'director']])\n",
        "\n"
      ]
    },
    {
      "cell_type": "markdown",
      "id": "4e5e92e1",
      "metadata": {
        "id": "4e5e92e1"
      },
      "source": [
        "**8. Display Top 10 Highest Revenue Movie Titles**"
      ]
    },
    {
      "cell_type": "code",
      "execution_count": null,
      "id": "6a1ad0bb",
      "metadata": {
        "id": "6a1ad0bb"
      },
      "outputs": [],
      "source": [
        "top_10_revenue = analysis_df[['title', 'revenue']].sort_values(by='revenue', ascending=False).head(10)\n",
        "\n",
        "plt.figure(figsize=(10,6))\n",
        "sns.barplot(data=top_10_revenue, x='revenue', y='title', palette='viridis')\n",
        "plt.title('Top 10 Highest Revenue Movies')\n",
        "plt.xlabel('Revenue')\n",
        "plt.ylabel('Movie Title')\n",
        "plt.tight_layout()\n",
        "plt.show()\n",
        "\n",
        "display(top_10_revenue)\n"
      ]
    },
    {
      "cell_type": "markdown",
      "id": "127f78f5",
      "metadata": {
        "id": "127f78f5"
      },
      "source": [
        "**9. Find Average Rating of Movies Year Wise**"
      ]
    },
    {
      "cell_type": "code",
      "execution_count": null,
      "id": "043f6e12",
      "metadata": {
        "id": "043f6e12"
      },
      "outputs": [],
      "source": [
        "yearly_avg_rating = analysis_df.groupby('release_year')['vote_average'].mean()\n",
        "\n",
        "plt.figure(figsize=(14,5))\n",
        "sns.lineplot(x=yearly_avg_rating.index, y=yearly_avg_rating.values, marker='o', color='teal')\n",
        "plt.title('Year-wise Average Movie Ratings')\n",
        "plt.xlabel('Year')\n",
        "plt.ylabel('Average Rating')\n",
        "plt.grid(True)\n",
        "plt.show()\n"
      ]
    },
    {
      "cell_type": "markdown",
      "id": "67ebc9a7",
      "metadata": {
        "id": "67ebc9a7"
      },
      "source": [
        "**10. In Which Year Was the Highest Average Revenue Recorded?**"
      ]
    },
    {
      "cell_type": "code",
      "execution_count": null,
      "id": "9efda6bf",
      "metadata": {
        "id": "9efda6bf"
      },
      "outputs": [],
      "source": [
        "highest_avg_revenue = analysis_df.groupby('release_year')['revenue'].mean().sort_values(ascending=False).head(1)\n",
        "print(\"Year with Highest Average Revenue:\")\n",
        "display(highest_avg_revenue)\n"
      ]
    },
    {
      "cell_type": "markdown",
      "id": "096227b7",
      "metadata": {
        "id": "096227b7"
      },
      "source": [
        "**11. Top 10 Directors by Average Movie Rating**"
      ]
    },
    {
      "cell_type": "code",
      "execution_count": null,
      "id": "4fa3950c",
      "metadata": {
        "id": "4fa3950c"
      },
      "outputs": [],
      "source": [
        "from collections import defaultdict\n",
        "import ast\n",
        "\n",
        "# Creating dictionary for director ratings\n",
        "director_ratings = defaultdict(list)\n",
        "\n",
        "# Safely extracting director names from stringified JSON\n",
        "for index, row in analysis_df.iterrows():\n",
        "    try:\n",
        "        crew_list = ast.literal_eval(row['crew'])\n",
        "        for person in crew_list:\n",
        "            if person.get('job') == 'Director':\n",
        "                director_ratings[person['name']].append(row['vote_average'])\n",
        "    except:\n",
        "        continue\n",
        "\n",
        "# Creating DataFrame with average ratings\n",
        "avg_director_rating = pd.DataFrame({\n",
        "    'director': list(director_ratings.keys()),\n",
        "    'average_rating': [sum(v)/len(v) for v in director_ratings.values()]\n",
        "})\n",
        "\n",
        "# Sorting and showing top 10\n",
        "top_directors = avg_director_rating.sort_values(by='average_rating', ascending=False).head(10)\n",
        "\n",
        "print(\"Top 10 Directors by Average Rating:\")\n",
        "display(top_directors)\n",
        "\n"
      ]
    },
    {
      "cell_type": "markdown",
      "id": "0845778c",
      "metadata": {
        "id": "0845778c"
      },
      "source": [
        "**12. Display Top 10 Lengthy Movies**"
      ]
    },
    {
      "cell_type": "code",
      "execution_count": null,
      "id": "98fa2b2f",
      "metadata": {
        "id": "98fa2b2f"
      },
      "outputs": [],
      "source": [
        "top_long_movies = analysis_df[['title', 'runtime']].sort_values(by='runtime', ascending=False).head(10)\n",
        "\n",
        "plt.figure(figsize=(10,6))\n",
        "sns.barplot(data=top_long_movies, x='runtime', y='title', palette='mako')\n",
        "plt.title('Top 10 Longest Movies')\n",
        "plt.xlabel('Runtime (minutes)')\n",
        "plt.ylabel('Movie Title')\n",
        "plt.tight_layout()\n",
        "plt.show()\n",
        "\n",
        "display(top_long_movies)\n"
      ]
    },
    {
      "cell_type": "markdown",
      "id": "3f38b514",
      "metadata": {
        "id": "3f38b514"
      },
      "source": [
        "**13. Does Rating Affect the Revenue? (Scatter Plot)**"
      ]
    },
    {
      "cell_type": "code",
      "execution_count": null,
      "id": "ddcab4ac",
      "metadata": {
        "id": "ddcab4ac"
      },
      "outputs": [],
      "source": [
        "plt.figure(figsize=(8,6))\n",
        "sns.scatterplot(data=analysis_df, x='vote_average', y='revenue', alpha=0.6)\n",
        "plt.title('Revenue vs. Rating')\n",
        "plt.xlabel('Vote Average')\n",
        "plt.ylabel('Revenue')\n",
        "plt.tight_layout()\n",
        "plt.show()\n",
        "\n"
      ]
    },
    {
      "cell_type": "markdown",
      "id": "2cfe2836",
      "metadata": {
        "id": "2cfe2836"
      },
      "source": [
        "**14. Classify Movies Based on Ratings [Excellent, Good, Average]**"
      ]
    },
    {
      "cell_type": "code",
      "execution_count": null,
      "id": "7f837e7c",
      "metadata": {
        "id": "7f837e7c"
      },
      "outputs": [],
      "source": [
        "def classify_rating(rating):\n",
        "    if rating >= 8:\n",
        "        return 'Excellent'\n",
        "    elif rating >= 6:\n",
        "        return 'Good'\n",
        "    else:\n",
        "        return 'Average'\n",
        "\n",
        "analysis_df['rating_category'] = analysis_df['vote_average'].apply(classify_rating)\n",
        "\n",
        "category_counts = analysis_df['rating_category'].value_counts()\n",
        "\n",
        "plt.figure(figsize=(6,6))\n",
        "plt.pie(category_counts, labels=category_counts.index, autopct='%1.1f%%', startangle=140, colors=['#76c7c0','#f4a261','#e76f51'])\n",
        "plt.title('Rating Classification of Movies')\n",
        "plt.tight_layout()\n",
        "plt.show()\n",
        "\n",
        "print(category_counts)\n"
      ]
    },
    {
      "cell_type": "markdown",
      "id": "26a988e4",
      "metadata": {
        "id": "26a988e4"
      },
      "source": [
        "**15. Count Number of Action Movies**"
      ]
    },
    {
      "cell_type": "code",
      "execution_count": null,
      "id": "8b3d1a08",
      "metadata": {
        "id": "8b3d1a08"
      },
      "outputs": [],
      "source": [
        "action_movies_count = analysis_df['genres'].apply(lambda x: 'Action' in x).sum()\n",
        "print(f\"Number of Action Movies: {action_movies_count}\")\n"
      ]
    },
    {
      "cell_type": "markdown",
      "id": "c48794d1",
      "metadata": {
        "id": "c48794d1"
      },
      "source": [
        "**16. List All Unique Movie Genres**"
      ]
    },
    {
      "cell_type": "code",
      "execution_count": null,
      "id": "0c511e3e",
      "metadata": {
        "id": "0c511e3e"
      },
      "outputs": [],
      "source": [
        "# Print each unique genre on a new line\n",
        "\n",
        "import pandas as pd\n",
        "import ast\n",
        "\n",
        "# Extract all genres and find unique ones\n",
        "all_genres = []\n",
        "for index, row in analysis_df.iterrows():\n",
        "    if isinstance(row['genres'], str):\n",
        "        try:\n",
        "            genres_list = ast.literal_eval(row['genres'])\n",
        "            if isinstance(genres_list, list):\n",
        "                for genre in genres_list:\n",
        "                    if isinstance(genre, dict) and 'name' in genre:\n",
        "                        all_genres.append(genre['name'])\n",
        "        except (ValueError, SyntaxError):\n",
        "            # Handle cases where the string is not a valid list of dictionaries\n",
        "            pass\n",
        "    elif isinstance(row['genres'], list):\n",
        "         for genre in row['genres']:\n",
        "            if isinstance(genre, dict) and 'name' in genre:\n",
        "                all_genres.append(genre['name'])\n",
        "\n",
        "\n",
        "unique_genres = set(all_genres)\n",
        "\n",
        "\n",
        "# Convert set to a sorted list and create a DataFrame\n",
        "unique_genres_list = sorted(unique_genres)\n",
        "df_genres = pd.DataFrame(unique_genres_list, columns=['Genre'])\n",
        "\n",
        "# Display the table\n",
        "print(df_genres)"
      ]
    },
    {
      "cell_type": "markdown",
      "id": "fd9ce8b0",
      "metadata": {
        "id": "fd9ce8b0"
      },
      "source": [
        "**17. How Many Films of Each Genre Were Made? (Bar Plot)**"
      ]
    },
    {
      "cell_type": "code",
      "execution_count": null,
      "id": "e162b0b6",
      "metadata": {
        "id": "e162b0b6"
      },
      "outputs": [],
      "source": [
        "import ast\n",
        "\n",
        "# Ensure genres column is parsed into actual lists of dicts\n",
        "analysis_df['genres'] = analysis_df['genres'].apply(lambda x: ast.literal_eval(x) if isinstance(x, str) and x.startswith('[') else x)\n",
        "\n",
        "# Step 1: Explode genres and prepare new DataFrame\n",
        "rows = []\n",
        "for _, row in analysis_df.iterrows():\n",
        "    if isinstance(row['genres'], list):\n",
        "        for genre in row['genres']:\n",
        "            if isinstance(genre, dict) and 'name' in genre:\n",
        "                rows.append({'genre': genre['name'], 'vote_average': row['vote_average']})\n",
        "\n",
        "flat_df = pd.DataFrame(rows)\n",
        "\n",
        "# Step 2: Group by genre to compute count and average vote\n",
        "genre_stats = flat_df.groupby('genre').agg(\n",
        "    movie_count=('vote_average', 'count'),\n",
        "    avg_vote=('vote_average', 'mean')\n",
        ").sort_values(by='movie_count', ascending=False).reset_index()\n",
        "\n",
        "# Step 3: Plot using seaborn\n",
        "plt.figure(figsize=(12, 8))\n",
        "sns.barplot(data=genre_stats, x='movie_count', y='genre', palette='magma')\n",
        "\n",
        "plt.title('Number of Movies by Genre')\n",
        "plt.xlabel('Number of Movies')\n",
        "plt.ylabel('Genre')\n",
        "plt.tight_layout()\n",
        "plt.show()\n",
        "\n",
        "\n"
      ]
    },
    {
      "cell_type": "markdown",
      "id": "37869cf7",
      "metadata": {
        "id": "37869cf7"
      },
      "source": [
        "**18. What is the Average Rating per Genre? (Grouped Bar Plot)**"
      ]
    },
    {
      "cell_type": "code",
      "execution_count": null,
      "id": "9ea04b33",
      "metadata": {
        "id": "9ea04b33"
      },
      "outputs": [],
      "source": [
        "# Group by genre to calculate average vote (rating)\n",
        "avg_rating_genre = flat_df.groupby('genre')['vote_average'].mean().sort_values(ascending=False).reset_index()\n",
        "\n",
        "# Plot the average rating per genre\n",
        "plt.figure(figsize=(10, 6))\n",
        "sns.barplot(data=avg_rating_genre, x='vote_average', y='genre', palette='coolwarm')\n",
        "plt.title('Average Rating by Genre')\n",
        "plt.xlabel('Average Rating')\n",
        "plt.ylabel('Genre')\n",
        "plt.tight_layout()\n",
        "plt.show()\n",
        "\n",
        "\n"
      ]
    },
    {
      "cell_type": "markdown",
      "id": "760d6212",
      "metadata": {
        "id": "760d6212"
      },
      "source": [
        "**19.  What is the Average Film Duration by Genre? (Bar Plot)**"
      ]
    },
    {
      "cell_type": "code",
      "execution_count": null,
      "id": "2ea6363b",
      "metadata": {
        "id": "2ea6363b"
      },
      "outputs": [],
      "source": [
        "# Create flat dataframe of genres and runtime\n",
        "genre_runtime_rows = []\n",
        "for _, row in analysis_df.iterrows():\n",
        "    for genre in row['genres']:\n",
        "        genre_runtime_rows.append({'genre': genre['name'], 'runtime': row['runtime']})\n",
        "\n",
        "genre_runtime_df = pd.DataFrame(genre_runtime_rows)\n",
        "\n",
        "# Group and average runtime by genre\n",
        "avg_runtime_genre = genre_runtime_df.groupby('genre')['runtime'].mean().sort_values(ascending=False).reset_index()\n",
        "\n",
        "# Plotting\n",
        "plt.figure(figsize=(10, 6))\n",
        "sns.barplot(data=avg_runtime_genre, x='runtime', y='genre', palette='magma')\n",
        "plt.title('Average Film Duration by Genre')\n",
        "plt.xlabel('Duration (minutes)')\n",
        "plt.ylabel('Genre')\n",
        "plt.tight_layout()\n",
        "plt.show()\n",
        "\n"
      ]
    },
    {
      "cell_type": "code",
      "source": [
        "import pandas as pd\n",
        "import seaborn as sns\n",
        "import matplotlib.pyplot as plt\n",
        "\n",
        "# Load the dataset\n",
        "df = pd.read_csv('/content/tmdb_5000_movies.csv')\n",
        "\n",
        "# Drop identifier columns\n",
        "df = df.drop(columns=['id', 'movie_id'], errors='ignore')  # errors='ignore' handles missing columns\n",
        "\n",
        "# Select only numerical columns\n",
        "numeric_df = df.select_dtypes(include=['float64', 'int64'])\n",
        "\n",
        "# Compute correlation matrix\n",
        "corr_matrix = numeric_df.corr()\n",
        "\n",
        "# Plot correlation heatmap\n",
        "plt.figure(figsize=(10, 8))\n",
        "sns.heatmap(corr_matrix, annot=True, fmt=\".2f\", cmap='coolwarm', linewidths=0.5,\n",
        "            xticklabels=corr_matrix.columns, yticklabels=corr_matrix.columns)\n",
        "plt.title(\"Correlation Matrix of Numerical Features in Movie Dataset\")\n",
        "plt.tight_layout()\n",
        "plt.show()\n",
        "\n"
      ],
      "metadata": {
        "id": "oXoePQNIzu5U"
      },
      "id": "oXoePQNIzu5U",
      "execution_count": null,
      "outputs": []
    },
    {
      "cell_type": "markdown",
      "id": "2d1bcfce",
      "metadata": {
        "id": "2d1bcfce"
      },
      "source": [
        "**20. Display Number of Movies by Genre**"
      ]
    },
    {
      "cell_type": "code",
      "execution_count": null,
      "id": "9bada96f",
      "metadata": {
        "id": "9bada96f"
      },
      "outputs": [],
      "source": [
        "from collections import Counter\n",
        "\n",
        "# Extract genre names\n",
        "genre_list = []\n",
        "for genre_entry in analysis_df['genres']:\n",
        "    for genre_dict in genre_entry:\n",
        "        genre_list.append(genre_dict['name'])  # Get just the genre name\n",
        "\n",
        "# Count occurrences\n",
        "genre_counts = Counter(genre_list)\n",
        "\n",
        "# Convert to DataFrame\n",
        "genre_df = pd.DataFrame(genre_counts.items(), columns=['genre', 'count']).sort_values(by='count', ascending=False)\n",
        "\n",
        "# Plot\n",
        "plt.figure(figsize=(10, 6))\n",
        "sns.barplot(data=genre_df, x='count', y='genre', palette='cubehelix')\n",
        "plt.title('Number of Movies per Genre')\n",
        "plt.xlabel('Count')\n",
        "plt.ylabel('Genre')\n",
        "plt.tight_layout()\n",
        "plt.show()\n",
        "\n",
        "# View the DataFrame\n",
        "display(genre_df)\n"
      ]
    }
  ],
  "metadata": {
    "kernelspec": {
      "display_name": "Python 3",
      "language": "python",
      "name": "python3"
    },
    "language_info": {
      "codemirror_mode": {
        "name": "ipython",
        "version": 3
      },
      "file_extension": ".py",
      "mimetype": "text/x-python",
      "name": "python",
      "nbconvert_exporter": "python",
      "pygments_lexer": "ipython3",
      "version": "3.12.6"
    },
    "colab": {
      "provenance": []
    }
  },
  "nbformat": 4,
  "nbformat_minor": 5
}